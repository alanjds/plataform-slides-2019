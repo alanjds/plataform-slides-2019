{
 "cells": [
  {
   "cell_type": "code",
   "execution_count": 1,
   "metadata": {
    "collapsed": true,
    "slideshow": {
     "slide_type": "skip"
    }
   },
   "outputs": [],
   "source": [
    "# Add all necessary imports here\n",
    "import matplotlib.pyplot as plt\n",
    "%matplotlib inline\n",
    "plt.style.reload_library()\n",
    "plt.style.use(\"ggplot\")"
   ]
  },
  {
   "cell_type": "markdown",
   "metadata": {
    "slideshow": {
     "slide_type": "slide"
    }
   },
   "source": [
    "# GetNinjas: Visita ETEC Mauá\n",
    "\n",
    "```\n",
    "Novembro de 2019\n",
    "```"
   ]
  },
  {
   "cell_type": "markdown",
   "metadata": {
    "slideshow": {
     "slide_type": "slide"
    }
   },
   "source": [
    "## Áreas da Tecnologia"
   ]
  },
  {
   "cell_type": "markdown",
   "metadata": {
    "slideshow": {
     "slide_type": "fragment"
    }
   },
   "source": [
    "## Fazendo um Pedido"
   ]
  },
  {
   "cell_type": "markdown",
   "metadata": {
    "slideshow": {
     "slide_type": "fragment"
    }
   },
   "source": [
    "## Processo de Desenvolvimento"
   ]
  },
  {
   "cell_type": "markdown",
   "metadata": {
    "slideshow": {
     "slide_type": "fragment"
    }
   },
   "source": [
    "## Dicas e Dúvidas"
   ]
  },
  {
   "cell_type": "markdown",
   "metadata": {
    "slideshow": {
     "slide_type": "slide"
    }
   },
   "source": [
    "# Áreas da Tecnologia"
   ]
  },
  {
   "cell_type": "markdown",
   "metadata": {
    "slideshow": {
     "slide_type": "fragment"
    }
   },
   "source": [
    "* Frontend"
   ]
  },
  {
   "cell_type": "markdown",
   "metadata": {
    "slideshow": {
     "slide_type": "fragment"
    }
   },
   "source": [
    "* Backend"
   ]
  },
  {
   "cell_type": "markdown",
   "metadata": {
    "slideshow": {
     "slide_type": "fragment"
    }
   },
   "source": [
    "* Infraestrutura"
   ]
  },
  {
   "cell_type": "markdown",
   "metadata": {
    "slideshow": {
     "slide_type": "fragment"
    }
   },
   "source": [
    "* Data Science & Business Inteligence"
   ]
  },
  {
   "cell_type": "markdown",
   "metadata": {
    "slideshow": {
     "slide_type": "subslide"
    }
   },
   "source": [
    "# Habilidades Humanas"
   ]
  },
  {
   "cell_type": "markdown",
   "metadata": {
    "slideshow": {
     "slide_type": "fragment"
    }
   },
   "source": [
    "* Feedback\n",
    "* Mentoria\n",
    "* Comunicação\n",
    "* Facilitação\n",
    "* Auto-gestão"
   ]
  },
  {
   "cell_type": "markdown",
   "metadata": {
    "slideshow": {
     "slide_type": "fragment"
    }
   },
   "source": [
    "* Negócio & Produto"
   ]
  },
  {
   "cell_type": "markdown",
   "metadata": {
    "slideshow": {
     "slide_type": "subslide"
    }
   },
   "source": [
    "# O que aprender primeiro?"
   ]
  },
  {
   "cell_type": "markdown",
   "metadata": {
    "slideshow": {
     "slide_type": "fragment"
    }
   },
   "source": [
    "```\n",
    "O que te impede de progredir\n",
    "```"
   ]
  },
  {
   "cell_type": "markdown",
   "metadata": {
    "slideshow": {
     "slide_type": "slide"
    }
   },
   "source": [
    "# Fazendo um pedido (Tecnologias)"
   ]
  },
  {
   "cell_type": "markdown",
   "metadata": {
    "slideshow": {
     "slide_type": "fragment"
    }
   },
   "source": [
    "http://www-smoke.getninjas.com.br"
   ]
  },
  {
   "cell_type": "markdown",
   "metadata": {
    "slideshow": {
     "slide_type": "subslide"
    }
   },
   "source": [
    "# Que tecnologias? (Frontend)"
   ]
  },
  {
   "cell_type": "markdown",
   "metadata": {
    "slideshow": {
     "slide_type": "fragment"
    }
   },
   "source": [
    "* Web\n",
    "    * HTML\n",
    "    * CSS\n",
    "    * JS"
   ]
  },
  {
   "cell_type": "markdown",
   "metadata": {
    "slideshow": {
     "slide_type": "fragment"
    }
   },
   "source": [
    "* Aplicativo Mobile\n",
    "    * WebView: HTML/CSS/JS (Android e iOS)\n",
    "    * Swift & Objective-C (iOS)\n",
    "    * Kotlin & Java (Android)\n",
    "    * Dart & Flutter (Android e iOS)"
   ]
  },
  {
   "cell_type": "markdown",
   "metadata": {
    "slideshow": {
     "slide_type": "subslide"
    }
   },
   "source": [
    "# Que tecnologias? (Backend)"
   ]
  },
  {
   "cell_type": "markdown",
   "metadata": {
    "slideshow": {
     "slide_type": "fragment"
    }
   },
   "source": [
    "* Ruby\n",
    "    * Ruby on Rails\n",
    "    * Sinatra\n",
    "    * Sidekiq"
   ]
  },
  {
   "cell_type": "markdown",
   "metadata": {
    "slideshow": {
     "slide_type": "fragment"
    }
   },
   "source": [
    "* Javascript (NodeJS)\n",
    "    * Express\n",
    "    * Apollo (GraphQL)"
   ]
  },
  {
   "cell_type": "markdown",
   "metadata": {
    "slideshow": {
     "slide_type": "fragment"
    }
   },
   "source": [
    "* Python\n",
    "    * Scikit Learn\n",
    "    * Numpy\n",
    "    * Django"
   ]
  },
  {
   "cell_type": "markdown",
   "metadata": {
    "slideshow": {
     "slide_type": "subslide"
    }
   },
   "source": [
    "# Que tecnologias? (Backend)\n",
    "\n",
    "* Java (Camunda: Fluxos do dia a dia)\n",
    "* Elixir (Erlang)\n",
    "* Golang\n",
    "* Bash\n",
    "* ..."
   ]
  },
  {
   "cell_type": "markdown",
   "metadata": {
    "slideshow": {
     "slide_type": "subslide"
    }
   },
   "source": [
    "# Que tecnologias? (Infraestrutura)"
   ]
  },
  {
   "cell_type": "markdown",
   "metadata": {
    "slideshow": {
     "slide_type": "fragment"
    }
   },
   "source": [
    "* Linux (Ubuntu principalmente)\n",
    "* Docker"
   ]
  },
  {
   "cell_type": "markdown",
   "metadata": {
    "slideshow": {
     "slide_type": "fragment"
    }
   },
   "source": [
    "* Nuvem Amazon (AWS - Amazon Web Services)\n",
    "    * EC2 - Elastic Computing Cloud\n",
    "    * S3 - Simple Storage Service\n",
    "    * AWS Lambda - Funções como Serviço\n",
    "    * Aurora DB - Base MySQL & Postgres gerenciadas\n",
    "    * EKS - Kubernetes gerenciado"
   ]
  },
  {
   "cell_type": "markdown",
   "metadata": {
    "slideshow": {
     "slide_type": "subslide"
    }
   },
   "source": [
    "# Que tecnologias? (Infraestrutura)"
   ]
  },
  {
   "cell_type": "markdown",
   "metadata": {
    "slideshow": {
     "slide_type": "fragment"
    }
   },
   "source": [
    "* Serviços\n",
    "    * NGINX\n",
    "    * uWSGI (Python)\n",
    "    * Puma (Ruby)\n",
    "    * Syslog (Logs)\n",
    "    * Grafana (Monitoramento)\n",
    "    * SSH (Acesso remoto)"
   ]
  },
  {
   "cell_type": "markdown",
   "metadata": {
    "slideshow": {
     "slide_type": "slide"
    }
   },
   "source": [
    "# Fazendo um pedido (Fluxo)\n",
    "\n",
    "http://www-smoke.getninjas.com.br"
   ]
  },
  {
   "cell_type": "markdown",
   "metadata": {
    "slideshow": {
     "slide_type": "fragment"
    }
   },
   "source": [
    "* Web\n",
    "* CDN\n",
    "* AWS ELB\n",
    "* Cache\n",
    "* NGINX\n",
    "    * Express (NodeJS)\n",
    "    * RubyOnRails (Ruby)\n",
    "    * AWS S3 (Arquivos estáticos)"
   ]
  },
  {
   "cell_type": "markdown",
   "metadata": {
    "slideshow": {
     "slide_type": "fragment"
    }
   },
   "source": [
    "## E o fluxo começa..."
   ]
  },
  {
   "cell_type": "markdown",
   "metadata": {
    "slideshow": {
     "slide_type": "slide"
    }
   },
   "source": [
    "# Processo de Desenvolvimento"
   ]
  },
  {
   "cell_type": "markdown",
   "metadata": {
    "slideshow": {
     "slide_type": "subslide"
    }
   },
   "source": [
    "# Metodologias\n",
    "\n",
    "* Manifesto Ágil\n",
    "* Scrum\n",
    "* Kanban\n",
    "* Spotify Squads"
   ]
  },
  {
   "cell_type": "markdown",
   "metadata": {
    "slideshow": {
     "slide_type": "subslide"
    }
   },
   "source": [
    "# Práticas\n",
    "\n",
    "* Testes\n",
    "* Code Review\n",
    "* Versionamento de Código (Git + Github)\n",
    "* Infraestrutura como Código (Terraform e outros)\n",
    "* Programação Pareada (eXtreme Programming)"
   ]
  },
  {
   "cell_type": "markdown",
   "metadata": {
    "slideshow": {
     "slide_type": "subslide"
    }
   },
   "source": [
    "# Planejamento e Acompanhamento"
   ]
  },
  {
   "cell_type": "markdown",
   "metadata": {
    "slideshow": {
     "slide_type": "fragment"
    }
   },
   "source": [
    "* Objectives and Key Results (OKR): trimestrais\n",
    "* Plan, Do, Check, Act (PDCA): a cada iniciativa \n",
    "* Product Discovery\n",
    "* ..."
   ]
  },
  {
   "cell_type": "markdown",
   "metadata": {
    "slideshow": {
     "slide_type": "subslide"
    }
   },
   "source": [
    "# Planejamento e Acompanhamento\n",
    "\n",
    "```\n",
    "Cadeia de Valor Ágil\n",
    "```\n",
    "\n",
    "![cadeia-valor-agil.jpg](img/cadeia-valor-agil.jpg)"
   ]
  },
  {
   "cell_type": "markdown",
   "metadata": {
    "slideshow": {
     "slide_type": "slide"
    }
   },
   "source": [
    "# Dicas e Dúvidas"
   ]
  },
  {
   "cell_type": "markdown",
   "metadata": {
    "slideshow": {
     "slide_type": "fragment"
    }
   },
   "source": [
    "* Software nunca está pronto. É um processo."
   ]
  },
  {
   "cell_type": "markdown",
   "metadata": {
    "slideshow": {
     "slide_type": "fragment"
    }
   },
   "source": [
    "* Falhar faz parte do caminho pra aprender a fazer direito. Esteja em lugares que não repreendam as falhas"
   ]
  },
  {
   "cell_type": "markdown",
   "metadata": {
    "slideshow": {
     "slide_type": "fragment"
    }
   },
   "source": [
    "* Ferramentas evoluem, mais rápido em algumas áreas, mas todas evoluem"
   ]
  },
  {
   "cell_type": "markdown",
   "metadata": {
    "slideshow": {
     "slide_type": "fragment"
    }
   },
   "source": [
    "* Estude coisas úteis a longo prazo, mas sobretudo, tenha prazer no que vc está fazendo."
   ]
  },
  {
   "cell_type": "markdown",
   "metadata": {
    "slideshow": {
     "slide_type": "subslide"
    }
   },
   "source": [
    "# Dicas e Dúvidas"
   ]
  },
  {
   "cell_type": "markdown",
   "metadata": {
    "slideshow": {
     "slide_type": "fragment"
    }
   },
   "source": [
    "* Vale a pena entender Estruturas de Dados & Ordenação\n",
    "* Vale a pena entender *CAP Theorem*\n",
    "* Vale a pena brincar com Computação Distribuída"
   ]
  },
  {
   "cell_type": "markdown",
   "metadata": {
    "slideshow": {
     "slide_type": "fragment"
    }
   },
   "source": [
    "* Vale a pena desenvolver suas habilidades humanas."
   ]
  },
  {
   "cell_type": "markdown",
   "metadata": {
    "slideshow": {
     "slide_type": "slide"
    }
   },
   "source": [
    "# OBRIGADO"
   ]
  },
  {
   "cell_type": "markdown",
   "metadata": {
    "slideshow": {
     "slide_type": "fragment"
    }
   },
   "source": [
    "## PERGUNTAS:\n",
    "\n",
    "* [@alanjds](https://github.com/alanjds/) (Github, Twitter...)\n",
    "* [alan.justino@getninjas.com.br](mailto://alan.justino@getninjas.com.br)\n",
    "* [alan.justino@yahoo.com.br](mailto://alan.justino@yahoo.com.br)\n",
    "* https://www.linkedin.com/in/alanjustino/"
   ]
  },
  {
   "cell_type": "markdown",
   "metadata": {
    "slideshow": {
     "slide_type": "fragment"
    }
   },
   "source": [
    "# SLIDES & ARTIGOS:\n",
    "\n",
    "* https://labs.getninjas.com.br/\n",
    "* https://slides.com/alanjds/\n",
    "* @GetNinjasLabs (Twitter)"
   ]
  },
  {
   "cell_type": "markdown",
   "metadata": {
    "slideshow": {
     "slide_type": "slide"
    }
   },
   "source": [
    "# OBRIGADO\n",
    "\n",
    "## Vagas abertas: https://getninjas.breezy.hr/"
   ]
  }
 ],
 "metadata": {
  "celltoolbar": "Slideshow",
  "kernelspec": {
   "display_name": "Python 2",
   "language": "python",
   "name": "python2"
  },
  "language_info": {
   "codemirror_mode": {
    "name": "ipython",
    "version": 2
   },
   "file_extension": ".py",
   "mimetype": "text/x-python",
   "name": "python",
   "nbconvert_exporter": "python",
   "pygments_lexer": "ipython2",
   "version": "2.7.15"
  },
  "widgets": {
   "state": {},
   "version": "1.1.2"
  }
 },
 "nbformat": 4,
 "nbformat_minor": 1
}
